{
 "cells": [
  {
   "cell_type": "code",
   "execution_count": 10,
   "metadata": {
    "collapsed": true
   },
   "outputs": [
    {
     "ename": "ValueError",
     "evalue": "y contains previously unseen labels: 'Sunny'",
     "output_type": "error",
     "traceback": [
      "\u001B[1;31m---------------------------------------------------------------------------\u001B[0m",
      "\u001B[1;31mKeyError\u001B[0m                                  Traceback (most recent call last)",
      "File \u001B[1;32m~\\AppData\\Local\\Programs\\Python\\Python312\\Lib\\site-packages\\sklearn\\utils\\_encode.py:225\u001B[0m, in \u001B[0;36m_encode\u001B[1;34m(values, uniques, check_unknown)\u001B[0m\n\u001B[0;32m    224\u001B[0m \u001B[38;5;28;01mtry\u001B[39;00m:\n\u001B[1;32m--> 225\u001B[0m     \u001B[38;5;28;01mreturn\u001B[39;00m \u001B[43m_map_to_integer\u001B[49m\u001B[43m(\u001B[49m\u001B[43mvalues\u001B[49m\u001B[43m,\u001B[49m\u001B[43m \u001B[49m\u001B[43muniques\u001B[49m\u001B[43m)\u001B[49m\n\u001B[0;32m    226\u001B[0m \u001B[38;5;28;01mexcept\u001B[39;00m \u001B[38;5;167;01mKeyError\u001B[39;00m \u001B[38;5;28;01mas\u001B[39;00m e:\n",
      "File \u001B[1;32m~\\AppData\\Local\\Programs\\Python\\Python312\\Lib\\site-packages\\sklearn\\utils\\_encode.py:165\u001B[0m, in \u001B[0;36m_map_to_integer\u001B[1;34m(values, uniques)\u001B[0m\n\u001B[0;32m    164\u001B[0m table \u001B[38;5;241m=\u001B[39m _nandict({val: i \u001B[38;5;28;01mfor\u001B[39;00m i, val \u001B[38;5;129;01min\u001B[39;00m \u001B[38;5;28menumerate\u001B[39m(uniques)})\n\u001B[1;32m--> 165\u001B[0m \u001B[38;5;28;01mreturn\u001B[39;00m np\u001B[38;5;241m.\u001B[39marray([\u001B[43mtable\u001B[49m\u001B[43m[\u001B[49m\u001B[43mv\u001B[49m\u001B[43m]\u001B[49m \u001B[38;5;28;01mfor\u001B[39;00m v \u001B[38;5;129;01min\u001B[39;00m values])\n",
      "File \u001B[1;32m~\\AppData\\Local\\Programs\\Python\\Python312\\Lib\\site-packages\\sklearn\\utils\\_encode.py:159\u001B[0m, in \u001B[0;36m_nandict.__missing__\u001B[1;34m(self, key)\u001B[0m\n\u001B[0;32m    158\u001B[0m     \u001B[38;5;28;01mreturn\u001B[39;00m \u001B[38;5;28mself\u001B[39m\u001B[38;5;241m.\u001B[39mnan_value\n\u001B[1;32m--> 159\u001B[0m \u001B[38;5;28;01mraise\u001B[39;00m \u001B[38;5;167;01mKeyError\u001B[39;00m(key)\n",
      "\u001B[1;31mKeyError\u001B[0m: 'Sunny'",
      "\nDuring handling of the above exception, another exception occurred:\n",
      "\u001B[1;31mValueError\u001B[0m                                Traceback (most recent call last)",
      "Cell \u001B[1;32mIn[10], line 27\u001B[0m\n\u001B[0;32m     24\u001B[0m clf\u001B[38;5;241m.\u001B[39mfit(X, y)\n\u001B[0;32m     26\u001B[0m \u001B[38;5;66;03m# Dự đoán và hiển thị kết quả\u001B[39;00m\n\u001B[1;32m---> 27\u001B[0m new_data \u001B[38;5;241m=\u001B[39m [[\u001B[43mlabel_encoder\u001B[49m\u001B[38;5;241;43m.\u001B[39;49m\u001B[43mtransform\u001B[49m\u001B[43m(\u001B[49m\u001B[43m[\u001B[49m\u001B[38;5;124;43m'\u001B[39;49m\u001B[38;5;124;43mSunny\u001B[39;49m\u001B[38;5;124;43m'\u001B[39;49m\u001B[43m]\u001B[49m\u001B[43m)\u001B[49m[\u001B[38;5;241m0\u001B[39m], label_encoder\u001B[38;5;241m.\u001B[39mtransform([\u001B[38;5;124m'\u001B[39m\u001B[38;5;124mMild\u001B[39m\u001B[38;5;124m'\u001B[39m])[\u001B[38;5;241m0\u001B[39m],\n\u001B[0;32m     28\u001B[0m              label_encoder\u001B[38;5;241m.\u001B[39mtransform([\u001B[38;5;124m'\u001B[39m\u001B[38;5;124mHigh\u001B[39m\u001B[38;5;124m'\u001B[39m])[\u001B[38;5;241m0\u001B[39m], label_encoder\u001B[38;5;241m.\u001B[39mtransform([\u001B[38;5;28;01mFalse\u001B[39;00m])[\u001B[38;5;241m0\u001B[39m]]]\n\u001B[0;32m     29\u001B[0m predicted \u001B[38;5;241m=\u001B[39m clf\u001B[38;5;241m.\u001B[39mpredict(new_data)\n\u001B[0;32m     30\u001B[0m \u001B[38;5;28mprint\u001B[39m(\u001B[38;5;124m\"\u001B[39m\u001B[38;5;124mPredicted:\u001B[39m\u001B[38;5;124m\"\u001B[39m, predicted)  \u001B[38;5;66;03m# In kết quả dự đoán\u001B[39;00m\n",
      "File \u001B[1;32m~\\AppData\\Local\\Programs\\Python\\Python312\\Lib\\site-packages\\sklearn\\preprocessing\\_label.py:137\u001B[0m, in \u001B[0;36mLabelEncoder.transform\u001B[1;34m(self, y)\u001B[0m\n\u001B[0;32m    134\u001B[0m \u001B[38;5;28;01mif\u001B[39;00m _num_samples(y) \u001B[38;5;241m==\u001B[39m \u001B[38;5;241m0\u001B[39m:\n\u001B[0;32m    135\u001B[0m     \u001B[38;5;28;01mreturn\u001B[39;00m np\u001B[38;5;241m.\u001B[39marray([])\n\u001B[1;32m--> 137\u001B[0m \u001B[38;5;28;01mreturn\u001B[39;00m \u001B[43m_encode\u001B[49m\u001B[43m(\u001B[49m\u001B[43my\u001B[49m\u001B[43m,\u001B[49m\u001B[43m \u001B[49m\u001B[43muniques\u001B[49m\u001B[38;5;241;43m=\u001B[39;49m\u001B[38;5;28;43mself\u001B[39;49m\u001B[38;5;241;43m.\u001B[39;49m\u001B[43mclasses_\u001B[49m\u001B[43m)\u001B[49m\n",
      "File \u001B[1;32m~\\AppData\\Local\\Programs\\Python\\Python312\\Lib\\site-packages\\sklearn\\utils\\_encode.py:227\u001B[0m, in \u001B[0;36m_encode\u001B[1;34m(values, uniques, check_unknown)\u001B[0m\n\u001B[0;32m    225\u001B[0m         \u001B[38;5;28;01mreturn\u001B[39;00m _map_to_integer(values, uniques)\n\u001B[0;32m    226\u001B[0m     \u001B[38;5;28;01mexcept\u001B[39;00m \u001B[38;5;167;01mKeyError\u001B[39;00m \u001B[38;5;28;01mas\u001B[39;00m e:\n\u001B[1;32m--> 227\u001B[0m         \u001B[38;5;28;01mraise\u001B[39;00m \u001B[38;5;167;01mValueError\u001B[39;00m(\u001B[38;5;124mf\u001B[39m\u001B[38;5;124m\"\u001B[39m\u001B[38;5;124my contains previously unseen labels: \u001B[39m\u001B[38;5;132;01m{\u001B[39;00m\u001B[38;5;28mstr\u001B[39m(e)\u001B[38;5;132;01m}\u001B[39;00m\u001B[38;5;124m\"\u001B[39m)\n\u001B[0;32m    228\u001B[0m \u001B[38;5;28;01melse\u001B[39;00m:\n\u001B[0;32m    229\u001B[0m     \u001B[38;5;28;01mif\u001B[39;00m check_unknown:\n",
      "\u001B[1;31mValueError\u001B[0m: y contains previously unseen labels: 'Sunny'"
     ]
    }
   ],
   "source": [
    "from sklearn.tree import DecisionTreeClassifier\n",
    "from sklearn.preprocessing import LabelEncoder\n",
    "import pandas as pd\n",
    "\n",
    "# Đọc dữ liệu từ file hoặc DataFrame của bạn\n",
    "data = {\n",
    "    'Outlook': ['Rainy', 'Rainy', 'Overcast', 'Sunny'],\n",
    "    'Temp': ['Hot', 'Hot', 'Hot', 'Mild'],\n",
    "    'Humidity': ['High', 'High', 'High', 'High'],\n",
    "    'Windy': [False, True, False, False],\n",
    "    'go to the cinema': ['No', 'No', 'Yes', 'Yes']\n",
    "}\n",
    "df = pd.DataFrame(data)\n",
    "\n",
    "# Chuyển đổi dữ liệu văn bản sang số\n",
    "label_encoder = LabelEncoder()\n",
    "for column in ['Outlook', 'Temp', 'Humidity']:\n",
    "    df[column] = label_encoder.fit_transform(df[column])\n",
    "\n",
    "# Tạo và huấn luyện mô hình cây quyết định\n",
    "X = df[['Outlook', 'Temp', 'Humidity', 'Windy']]\n",
    "y = df['go to the cinema']\n",
    "clf = DecisionTreeClassifier()\n",
    "clf.fit(X, y)\n",
    "\n",
    "# Dự đoán và hiển thị kết quả\n",
    "new_data = [[label_encoder.transform(['Sunny'])[0], label_encoder.transform(['Mild'])[0],\n",
    "             label_encoder.transform(['High'])[0], label_encoder.transform([False])[0]]]\n",
    "predicted = clf.predict(new_data)\n",
    "print(\"Predicted:\", predicted)  # In kết quả dự đoán\n"
   ]
  },
  {
   "cell_type": "code",
   "execution_count": 22,
   "outputs": [],
   "source": [
    "import pandas as pd\n",
    "import numpy  as np\n",
    "data = {\n",
    "    'Outlook': ['Rainy', 'Rainy', 'Overcast', 'Sunny'],\n",
    "    'Temp': ['Hot', 'Hot', 'Hot', 'Mild'],\n",
    "    'Humidity': ['High', 'High', 'High', 'High'],\n",
    "    'Windy': [False, True, False, False],\n",
    "    'go to the cinema': ['No', 'No', 'Yes', 'Yes']\n",
    "}\n",
    "\n",
    "df = pd.DataFrame(data)\n",
    "df1 = pd.read_excel('thoi_tiet.xlsx')"
   ],
   "metadata": {
    "collapsed": false
   }
  },
  {
   "cell_type": "code",
   "execution_count": null,
   "outputs": [],
   "source": [],
   "metadata": {
    "collapsed": false
   }
  },
  {
   "cell_type": "code",
   "execution_count": 23,
   "outputs": [
    {
     "name": "stderr",
     "output_type": "stream",
     "text": [
      "C:\\Users\\mihvu\\AppData\\Local\\Programs\\Python\\Python312\\Lib\\site-packages\\sklearn\\base.py:465: UserWarning: X does not have valid feature names, but DecisionTreeClassifier was fitted with feature names\n",
      "  warnings.warn(\n"
     ]
    },
    {
     "ename": "IndexError",
     "evalue": "only integers, slices (`:`), ellipsis (`...`), numpy.newaxis (`None`) and integer or boolean arrays are valid indices",
     "output_type": "error",
     "traceback": [
      "\u001B[1;31m---------------------------------------------------------------------------\u001B[0m",
      "\u001B[1;31mIndexError\u001B[0m                                Traceback (most recent call last)",
      "Cell \u001B[1;32mIn[23], line 36\u001B[0m\n\u001B[0;32m     33\u001B[0m predicted_labels \u001B[38;5;241m=\u001B[39m clf\u001B[38;5;241m.\u001B[39mpredict(X_test)\n\u001B[0;32m     35\u001B[0m \u001B[38;5;66;03m# Hiển thị kết quả\u001B[39;00m\n\u001B[1;32m---> 36\u001B[0m result \u001B[38;5;241m=\u001B[39m \u001B[38;5;124m\"\u001B[39m\u001B[38;5;124myes\u001B[39m\u001B[38;5;124m\"\u001B[39m \u001B[38;5;28;01mif\u001B[39;00m \u001B[43mpredicted_labels\u001B[49m\u001B[43m[\u001B[49m\u001B[38;5;241;43m0.3\u001B[39;49m\u001B[43m]\u001B[49m \u001B[38;5;241m==\u001B[39m \u001B[38;5;241m0.6\u001B[39m \u001B[38;5;28;01melse\u001B[39;00m \u001B[38;5;124m\"\u001B[39m\u001B[38;5;124mno\u001B[39m\u001B[38;5;124m\"\u001B[39m\n\u001B[0;32m     37\u001B[0m \u001B[38;5;28mprint\u001B[39m(result)\n",
      "\u001B[1;31mIndexError\u001B[0m: only integers, slices (`:`), ellipsis (`...`), numpy.newaxis (`None`) and integer or boolean arrays are valid indices"
     ]
    }
   ],
   "source": [
    "# Lấy dữ liệu từ DataFrame\n",
    "outlook = 'Rainy'\n",
    "temp = 'Hot'\n",
    "humidity = 'High'\n",
    "windy = False\n",
    "\n",
    "# Chuyển đổi dữ liệu sang dạng số\n",
    "X = df[['Outlook', 'Temp', 'Humidity', 'Windy']]\n",
    "X.columns = ['Outlook', 'Temp', 'Humidity', 'Windy']\n",
    "y = df['go to the cinema']\n",
    "\n",
    "label_encoder = LabelEncoder()\n",
    "X.loc[:, 'Outlook'] = label_encoder.fit_transform(X['Outlook'])\n",
    "X.loc[:, 'Temp'] = label_encoder.fit_transform(X['Temp'])\n",
    "X.loc[:, 'Humidity'] = label_encoder.fit_transform(X['Humidity'])\n",
    "X.loc[:, 'Windy'] = label_encoder.fit_transform(X['Windy'])\n",
    "outlook = label_encoder.transform([outlook])[0]\n",
    "temp = label_encoder.transform([temp])[0]\n",
    "humidity = label_encoder.transform([humidity])[0]\n",
    "windy = label_encoder.transform([windy])[0]\n",
    "\n",
    "# Tạo và huấn luyện mô hình\n",
    "clf = DecisionTreeClassifier()\n",
    "clf.fit(X, y)\n",
    "\n",
    "# Đặt tên cho các đặc trưng\n",
    "clf.feature_names = ['Outlook', 'Temp', 'Humidity', 'Windy']\n",
    "\n",
    "# Dữ liệu kiểm tra\n",
    "X_test = np.array([[outlook, temp, humidity, windy]])\n",
    "\n",
    "# Dự đoán\n",
    "predicted_labels = clf.predict(X_test)\n",
    "\n",
    "# Hiển thị kết quả\n",
    "result = \"yes\" if predicted_labels[0] == 1 else \"no\"\n",
    "print(result)\n"
   ],
   "metadata": {
    "collapsed": false
   }
  },
  {
   "cell_type": "code",
   "execution_count": 21,
   "outputs": [
    {
     "name": "stdout",
     "output_type": "stream",
     "text": [
      "X_test after prediction: [[1 1 1 0]]\n",
      "Không nên đi xem phim\n"
     ]
    },
    {
     "name": "stderr",
     "output_type": "stream",
     "text": [
      "C:\\Users\\mihvu\\AppData\\Local\\Programs\\Python\\Python312\\Lib\\site-packages\\sklearn\\base.py:465: UserWarning: X does not have valid feature names, but DecisionTreeClassifier was fitted with feature names\n",
      "  warnings.warn(\n"
     ]
    }
   ],
   "source": [
    "# Lấy dữ liệu từ DataFrame\n",
    "outlook = 'Overcast'\n",
    "temp = 'Hot'\n",
    "humidity = 'High'\n",
    "windy = False\n",
    "\n",
    "# Chuyển đổi dữ liệu sang dạng số\n",
    "X = df[['Outlook', 'Temp', 'Humidity', 'Windy']]\n",
    "X.columns = ['Outlook', 'Temp', 'Humidity', 'Windy']\n",
    "y = df['go to the cinema']\n",
    "\n",
    "label_encoder = LabelEncoder()\n",
    "X.loc[:, 'Outlook'] = label_encoder.fit_transform(X['Outlook'])\n",
    "X.loc[:, 'Temp'] = label_encoder.fit_transform(X['Temp'])\n",
    "X.loc[:, 'Humidity'] = label_encoder.fit_transform(X['Humidity'])\n",
    "X.loc[:, 'Windy'] = label_encoder.fit_transform(X['Windy'])\n",
    "outlook = label_encoder.transform([outlook])[0]\n",
    "temp = label_encoder.transform([temp])[0]\n",
    "humidity = label_encoder.transform([humidity])[0]\n",
    "windy = label_encoder.transform([windy])[0]\n",
    "\n",
    "# Tạo và huấn luyện mô hình\n",
    "clf = DecisionTreeClassifier()\n",
    "clf.fit(X, y)\n",
    "\n",
    "# Đặt tên cho các đặc trưng\n",
    "clf.feature_names = ['Outlook', 'Temp', 'Humidity', 'Windy']\n",
    "\n",
    "# Dữ liệu kiểm tra\n",
    "X_test = np.array([[outlook, temp, humidity, windy]])\n",
    "\n",
    "# Dự đoán\n",
    "predicted_labels = clf.predict(X_test)\n",
    "print(\"X_test after prediction:\", X_test)\n",
    "# Hiển thị kết quả\n",
    "result = \"Nên đi xem phim\" if predicted_labels[0] == 1 else \"Không nên đi xem phim\"\n",
    "print(result)\n"
   ],
   "metadata": {
    "collapsed": false
   }
  },
  {
   "cell_type": "code",
   "execution_count": 18,
   "outputs": [
    {
     "name": "stdout",
     "output_type": "stream",
     "text": [
      "Unique values of Outlook: ['Ralny' 'Overoact' 'Sunny']\n",
      "Unique values of Temp: ['Hot' 'Mlld' 'Cool']\n",
      "Unique values of Humidity: ['High' 'Normal']\n",
      "Unique values of Windy: [False  True]\n",
      "Encoded values of Outlook: [1 1 0 2 2 2 0 1 1 2 1 0 0 2]\n",
      "Encoded values of Temp: [1 1 1 2 0 0 0 2 0 2 2 2 1 2]\n",
      "Encoded values of Humidity: [0 0 0 0 1 1 1 0 1 1 1 0 1 0]\n",
      "Encoded values of Windy: [0 1 0 0 0 1 1 0 0 0 1 1 0 1]\n"
     ]
    }
   ],
   "source": [
    "# Xem các giá trị duy nhất của từng cột trước khi mã hóa\n",
    "print(\"Unique values of Outlook:\", df1['Outlook'].unique())\n",
    "print(\"Unique values of Temp:\", df1['Temp'].unique())\n",
    "print(\"Unique values of Humidity:\", df1['Humidity'].unique())\n",
    "print(\"Unique values of Windy:\", df1['Windy'].unique())\n",
    "\n",
    "# Xác định các giá trị mã hóa của các thuộc tính\n",
    "print(\"Encoded values of Outlook:\", label_encoder.fit_transform(df1['Outlook']))\n",
    "print(\"Encoded values of Temp:\", label_encoder.fit_transform(df1['Temp']))\n",
    "print(\"Encoded values of Humidity:\", label_encoder.fit_transform(df1['Humidity']))\n",
    "print(\"Encoded values of Windy:\", label_encoder.fit_transform(df1['Windy']))\n"
   ],
   "metadata": {
    "collapsed": false
   }
  },
  {
   "cell_type": "code",
   "execution_count": 19,
   "outputs": [
    {
     "name": "stdout",
     "output_type": "stream",
     "text": [
      "First few rows of X:\n",
      "  Outlook Temp Humidity  Windy\n",
      "0       1    0        0      0\n",
      "1       1    0        0      1\n",
      "2       0    0        0      0\n",
      "3       2    1        0      0\n",
      "First few rows of y:\n",
      "0     No\n",
      "1     No\n",
      "2    Yes\n",
      "3    Yes\n",
      "Name: go to the cinema, dtype: object\n"
     ]
    }
   ],
   "source": [
    "# In ra một số dòng đầu tiên của X và y\n",
    "print(\"First few rows of X:\")\n",
    "print(X.head())\n",
    "print(\"First few rows of y:\")\n",
    "print(y.head())\n"
   ],
   "metadata": {
    "collapsed": false
   }
  },
  {
   "cell_type": "code",
   "execution_count": 20,
   "outputs": [
    {
     "name": "stdout",
     "output_type": "stream",
     "text": [
      "Feature importances:\n",
      "[0.66666667 0.         0.         0.33333333]\n"
     ]
    }
   ],
   "source": [
    "# In ra các đặc trưng quan trọng của mô hình\n",
    "print(\"Feature importances:\")\n",
    "print(clf.feature_importances_)\n"
   ],
   "metadata": {
    "collapsed": false
   }
  }
 ],
 "metadata": {
  "kernelspec": {
   "display_name": "Python 3",
   "language": "python",
   "name": "python3"
  },
  "language_info": {
   "codemirror_mode": {
    "name": "ipython",
    "version": 2
   },
   "file_extension": ".py",
   "mimetype": "text/x-python",
   "name": "python",
   "nbconvert_exporter": "python",
   "pygments_lexer": "ipython2",
   "version": "2.7.6"
  }
 },
 "nbformat": 4,
 "nbformat_minor": 0
}
